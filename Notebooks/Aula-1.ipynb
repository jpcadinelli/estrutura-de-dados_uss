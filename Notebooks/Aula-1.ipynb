{
 "cells": [
  {
   "cell_type": "markdown",
   "metadata": {},
   "source": [
    "# Exercício de Análise de Dados com vetores\n",
    "\n",
    "\n",
    "Dividiremos em 3 passos, sendo:\n",
    "\n",
    "\n",
    "1. Coleta de Dados:\n",
    "\n",
    "\n",
    "Criem um vetor para armazenar um conjunto de dados. Este pode ser, por exemplo, uma lista de idades ou qualquer outro conjunto de dados numéricos simples. O vetor deve ser preenchido com dados fornecidos pelo usuário, gerados aleatoriamente dentro de um intervalo definido, ou diretamente no código, conforme a preferência.\n",
    "\n",
    "\n",
    "2. Processamento de Dados:\n",
    "\n",
    "\n",
    "Implementar funções ou procedimentos para realizar as seguintes operações no vetor de dados:\n",
    "\n",
    "\n",
    "*   Calcular a média: calcular a média dos valores armazenados no vetor.\n",
    "*   Encontrar o valor máximo e mínimo: identificar os valores máximo e mínimo dentro do vetor.\n",
    "*   Contar elementos dentro de um intervalo: contar quantos elementos estão dentro de um intervalo específico definido pelo usuário (por exemplo, quantas idades estão entre 18 e 25 anos).\n",
    "\n",
    "\n",
    "3. Relatório dos Resultados:\n",
    "\n",
    "\n",
    "Após realizar as operações acima, os alunos devem imprimir um relatório simples que mostre os resultados de cada operação (média, valor máximo e mínimo, e contagem de elementos dentro de um intervalo)."
   ]
  },
  {
   "cell_type": "code",
   "execution_count": 33,
   "metadata": {},
   "outputs": [
    {
     "name": "stdout",
     "output_type": "stream",
     "text": [
      "Media: 20.875\n",
      "Valor máximo: 45\n",
      "Valor mínimo: 1\n",
      "O número de elementos dentro do intervalo é: 1\n"
     ]
    }
   ],
   "source": [
    "dados = [1, 2, 6, 45, 23, 17, 39, 34]\n",
    "\n",
    "def media(vetor):\n",
    "    return sum(vetor)/len(vetor)\n",
    "\n",
    "print(f'Media: {media(dados)}')\n",
    "\n",
    "def maximo(vetor):\n",
    "    return max(vetor)\n",
    "\n",
    "print(f'Valor máximo: {maximo(dados)}')\n",
    "\n",
    "def minimo(vetor):\n",
    "    return min(vetor)\n",
    "\n",
    "print(f'Valor mínimo: {minimo(dados)}')\n",
    "\n",
    "\n",
    "\n",
    "def faixa_etaria(vetor, idade_minima, idade_maxima):\n",
    "    cont = 0\n",
    "    for i in range(len(vetor)):\n",
    "        if (idade_minima <= vetor[i] <= idade_maxima):\n",
    "            cont += 1\n",
    "    return cont\n",
    "\n",
    "print(f'O número de elementos dentro do intervalo é: {faixa_etaria(dados, 18, 25)}')"
   ]
  }
 ],
 "metadata": {
  "kernelspec": {
   "display_name": "Python 3",
   "language": "python",
   "name": "python3"
  },
  "language_info": {
   "codemirror_mode": {
    "name": "ipython",
    "version": 3
   },
   "file_extension": ".py",
   "mimetype": "text/x-python",
   "name": "python",
   "nbconvert_exporter": "python",
   "pygments_lexer": "ipython3",
   "version": "3.10.12"
  }
 },
 "nbformat": 4,
 "nbformat_minor": 2
}
