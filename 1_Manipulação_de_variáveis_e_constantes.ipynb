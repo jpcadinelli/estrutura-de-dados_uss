{
 "cells": [
  {
   "cell_type": "markdown",
   "metadata": {},
   "source": [
    "# 1_Manipulação_de_variáveis_e_constantes\n",
    "\n",
    "\n",
    "## Variáveis e constantes\n",
    "\n",
    "\n",
    "* Por meio de variáveis que um algortimo “guarda” os dados do problema\n",
    "\n",
    "\n",
    "* Todo dado que tem a possibilidade de ser alterado no decorrer do tempo deverá ser tratado como uma variável\n",
    "\n",
    "\n",
    "* Quando um dado não tem nenhuma possibilidade de variar no decorrer do tempo, deverá ser tratado como constante\n",
    "\n",
    "\n",
    "Exemplo: calcular a área de um triângulo. Sabemos que a fórmula para o cálculo da área de um triângulo é BASE * ALTURA / 2. Base e altura são dados que irão variar no decorrer do “tempo de execução”. O número 2 da fórmula é um dado constante, pois sempre terá o mesmo valor\n",
    "\n",
    "\n",
    "## Tipo de variáveis\n",
    "\n",
    "\n",
    "* Inteiros: valores positivos ou negativos, que não possuem uma parte fracionária. Exemplos: 1, 30, 40, 12, -50\n",
    "\n",
    "\n",
    "* Float (real): valores positivos ou negativos, que podem possuir uma parte fracionária (também podem ser inteiros). Exemplos: 1.4, 6.7, 10.3, 100, -47\n",
    "\n",
    "\n",
    "* Caracteres (char ou string): qualquer elemento presente no teclado. Exemplos: “Maria” e “João” sendo string e ‘M’, ‘F’ sendo char\n",
    "\n",
    "\n",
    "* Lógico (boleano): verdadeiro ou falso. Exemplos: true, false, 1, 0\n",
    "\n",
    "\n",
    "## Variáveis inteiras"
   ]
  },
  {
   "cell_type": "code",
   "execution_count": 1,
   "metadata": {},
   "outputs": [],
   "source": [
    "numero = -3\n",
    "numero_jogos = 14\n",
    "numero_convidados = 15"
   ]
  },
  {
   "cell_type": "code",
   "execution_count": 2,
   "metadata": {},
   "outputs": [
    {
     "data": {
      "text/plain": [
       "-3"
      ]
     },
     "execution_count": 2,
     "metadata": {},
     "output_type": "execute_result"
    }
   ],
   "source": [
    "numero"
   ]
  },
  {
   "cell_type": "code",
   "execution_count": 3,
   "metadata": {},
   "outputs": [
    {
     "name": "stdout",
     "output_type": "stream",
     "text": [
      "-3\n"
     ]
    }
   ],
   "source": [
    "print(numero)"
   ]
  },
  {
   "cell_type": "code",
   "execution_count": 4,
   "metadata": {},
   "outputs": [
    {
     "name": "stdout",
     "output_type": "stream",
     "text": [
      "-3 15\n"
     ]
    }
   ],
   "source": [
    "print(numero, numero_convidados)"
   ]
  },
  {
   "cell_type": "markdown",
   "metadata": {},
   "source": [
    "## Variáveis float (ponto flutuante)"
   ]
  },
  {
   "cell_type": "code",
   "execution_count": 5,
   "metadata": {},
   "outputs": [],
   "source": [
    "pi = 3.14\n",
    "numero_euler = 2.71\n",
    "escala_terremoto = -4.55"
   ]
  },
  {
   "cell_type": "code",
   "execution_count": 6,
   "metadata": {},
   "outputs": [
    {
     "name": "stdout",
     "output_type": "stream",
     "text": [
      "3.14\n",
      "2.71\n",
      "-4.55\n"
     ]
    }
   ],
   "source": [
    "print(pi)\n",
    "print(numero_euler)\n",
    "print(escala_terremoto)"
   ]
  },
  {
   "cell_type": "markdown",
   "metadata": {},
   "source": [
    "## Strings e chars"
   ]
  },
  {
   "cell_type": "code",
   "execution_count": 7,
   "metadata": {},
   "outputs": [],
   "source": [
    "letra = \"a\"\n",
    "palavra1 = \"linguagem de programação\"\n",
    "palavra2 = \"Python\""
   ]
  },
  {
   "cell_type": "code",
   "execution_count": 8,
   "metadata": {},
   "outputs": [
    {
     "name": "stdout",
     "output_type": "stream",
     "text": [
      "a linguagem de programação\n"
     ]
    }
   ],
   "source": [
    "print(letra, palavra1)"
   ]
  },
  {
   "cell_type": "code",
   "execution_count": 9,
   "metadata": {},
   "outputs": [
    {
     "name": "stdout",
     "output_type": "stream",
     "text": [
      "Estou aprendendo uma linguagem de programação\n"
     ]
    }
   ],
   "source": [
    "print(\"Estou aprendendo uma\", palavra1)"
   ]
  },
  {
   "cell_type": "code",
   "execution_count": 10,
   "metadata": {},
   "outputs": [
    {
     "name": "stdout",
     "output_type": "stream",
     "text": [
      "Esta linguagem de programação se chama Python\n"
     ]
    }
   ],
   "source": [
    "print(\"Esta\", palavra1, \"se chama\", palavra2)"
   ]
  },
  {
   "cell_type": "code",
   "execution_count": 11,
   "metadata": {},
   "outputs": [
    {
     "name": "stdout",
     "output_type": "stream",
     "text": [
      "Sua idade é  25\n"
     ]
    }
   ],
   "source": [
    "idade = int(input(\"Digite sua idade:\"))\n",
    "print(\"Sua idade é \", idade)"
   ]
  },
  {
   "cell_type": "code",
   "execution_count": 12,
   "metadata": {},
   "outputs": [
    {
     "name": "stdout",
     "output_type": "stream",
     "text": [
      "O pH medido foi  4.0\n"
     ]
    }
   ],
   "source": [
    "pH = float(input(\"Qual o pH do solo durante a última medição?\"))\n",
    "print(\"O pH medido foi \", pH)"
   ]
  },
  {
   "cell_type": "code",
   "execution_count": 13,
   "metadata": {},
   "outputs": [
    {
     "name": "stdout",
     "output_type": "stream",
     "text": [
      "Seu nome é João Pedro\n"
     ]
    }
   ],
   "source": [
    "nome = str(input(\"Qual o seu nome?\"))\n",
    "print(\"Seu nome é\", nome)"
   ]
  },
  {
   "cell_type": "code",
   "execution_count": 14,
   "metadata": {},
   "outputs": [
    {
     "data": {
      "text/plain": [
       "25"
      ]
     },
     "execution_count": 14,
     "metadata": {},
     "output_type": "execute_result"
    }
   ],
   "source": [
    "idade"
   ]
  }
 ],
 "metadata": {
  "kernelspec": {
   "display_name": "Python 3",
   "language": "python",
   "name": "python3"
  },
  "language_info": {
   "codemirror_mode": {
    "name": "ipython",
    "version": 3
   },
   "file_extension": ".py",
   "mimetype": "text/x-python",
   "name": "python",
   "nbconvert_exporter": "python",
   "pygments_lexer": "ipython3",
   "version": "3.10.12"
  }
 },
 "nbformat": 4,
 "nbformat_minor": 2
}
